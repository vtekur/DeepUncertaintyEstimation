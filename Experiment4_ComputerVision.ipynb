{
 "cells": [
  {
   "cell_type": "markdown",
   "metadata": {
    "cell_id": "00000-c4dae1c1-f1ba-4477-8acd-d0c3c954e4ca",
    "deepnote_cell_type": "markdown",
    "id": "M2zL7dT_wMPx"
   },
   "source": [
    "# Computer Vision "
   ]
  },
  {
   "cell_type": "markdown",
   "metadata": {
    "cell_id": "00001-2fed1fa5-fad8-42df-9a45-1b4919d3ec6c",
    "deepnote_cell_type": "markdown",
    "tags": []
   },
   "source": [
    "In this notebook, we create an initial version of SNGP, spectral normalized neural gaussian process for computer vision. We take the implementation or resnet18 proposed by the original authors of the convoluational architecture and implement a version of SNGP with this base network. We then run intial binary classification and OOD detection experiments on the benchmark CIFAR-10 dataset. We compare accuracy results to a non-residual and non-deep architecture and summarize."
   ]
  },
  {
   "cell_type": "code",
   "execution_count": null,
   "metadata": {
    "cell_id": "00002-76e98aa5-1340-48be-83fc-679fc41f6fa5",
    "deepnote_cell_type": "code",
    "executionInfo": {
     "elapsed": 420,
     "status": "ok",
     "timestamp": 1608310256925,
     "user": {
      "displayName": "Varun Tekur",
      "photoUrl": "",
      "userId": "06324564564411975562"
     },
     "user_tz": 300
    },
    "execution_millis": 0,
    "execution_start": 1608363073430,
    "id": "duVn6lPvwMP2",
    "output_cleared": false,
    "source_hash": "2cecc36d"
   },
   "outputs": [],
   "source": [
    "import math\n",
    "\n",
    "import torch\n",
    "import torch.nn as nn\n",
    "import torch.nn.functional as F\n",
    "import torch.optim as optim\n",
    "import torchvision\n",
    "import torchvision.transforms as transforms\n",
    "from torch.utils.data import DataLoader, Dataset\n",
    "from sklearn.metrics import accuracy_score\n",
    "from sklearn.datasets import make_moons, make_circles, make_blobs\n",
    "from sklearn.model_selection import train_test_split\n",
    "from functools import partial\n",
    "from dataclasses import dataclass\n",
    "\n",
    "import numpy as np\n",
    "import pandas as pd\n",
    "import seaborn as sns\n",
    "from scipy.ndimage.filters import gaussian_filter\n",
    "import matplotlib.pyplot as plt\n",
    "import matplotlib.ticker as ticker\n",
    "import time"
   ]
  },
  {
   "cell_type": "markdown",
   "metadata": {
    "cell_id": "00005-de61d3ab-69ee-4083-a0c7-5146a47d7851",
    "deepnote_cell_type": "markdown",
    "id": "G5fy6urzwMP4"
   },
   "source": [
    "## ResNet network and GP Layer (SNGP)\n",
    "\n",
    "Below is first an implementation of the ResNet Pytorch infastructure. We alter it to make a more lightweight architecture for training and experimentation time purposes. We also add spectral normalization. \n",
    "\n",
    "Following our ResNet on Pytorch Implementation, we add this to our GP layer implementation for a final model to implement.\n"
   ]
  },
  {
   "cell_type": "code",
   "execution_count": null,
   "metadata": {
    "cell_id": "00006-e76cad78-811b-413d-84c5-07c754fd5c8c",
    "deepnote_cell_type": "code",
    "executionInfo": {
     "elapsed": 517,
     "status": "ok",
     "timestamp": 1608310264513,
     "user": {
      "displayName": "Varun Tekur",
      "photoUrl": "",
      "userId": "06324564564411975562"
     },
     "user_tz": 300
    },
    "execution_millis": 1,
    "execution_start": 1608363073431,
    "id": "1zDWMm2ywMQM",
    "output_cleared": false,
    "source_hash": "30824318"
   },
   "outputs": [],
   "source": [
    "from collections import OrderedDict\n",
    "\n",
    "class Conv2dAuto(nn.Conv2d):\n",
    "    def __init__(self, *args, **kwargs):\n",
    "        super().__init__(*args, **kwargs)\n",
    "        self.padding =  (self.kernel_size[0] // 2, self.kernel_size[1] // 2) # dynamic add padding based on the kernel_size\n",
    "        \n",
    "conv3x3 = partial(Conv2dAuto, kernel_size=3, bias=False)\n",
    "\n",
    "class ResidualBlock(nn.Module):\n",
    "    def __init__(self, in_channels, out_channels):\n",
    "        super().__init__()\n",
    "        self.in_channels, self.out_channels =  in_channels, out_channels\n",
    "        self.blocks = nn.Identity()\n",
    "        self.shortcut = nn.Identity()   \n",
    "    \n",
    "    def forward(self, x):\n",
    "        residual = x\n",
    "        if self.should_apply_shortcut: residual = self.shortcut(x)\n",
    "        x = self.blocks(x)\n",
    "        x += residual\n",
    "        return x\n",
    "    \n",
    "    @property\n",
    "    def should_apply_shortcut(self):\n",
    "        return self.in_channels != self.out_channels\n",
    "\n",
    "\n",
    "class ResNetResidualBlock(ResidualBlock):\n",
    "    def __init__(self, in_channels, out_channels, expansion=1, downsampling=1, conv=conv3x3, *args, **kwargs):\n",
    "        super().__init__(in_channels, out_channels)\n",
    "        self.expansion, self.downsampling, self.conv = expansion, downsampling, conv\n",
    "        self.shortcut = nn.Sequential(OrderedDict(\n",
    "        {\n",
    "            'conv' : nn.utils.spectral_norm(nn.Conv2d(self.in_channels, self.expanded_channels, kernel_size=1,\n",
    "                      stride=self.downsampling, bias=False)),\n",
    "            'bn' : nn.BatchNorm2d(self.expanded_channels)\n",
    "            \n",
    "        })) if self.should_apply_shortcut else None\n",
    "        \n",
    "        \n",
    "    @property\n",
    "    def expanded_channels(self):\n",
    "        return self.out_channels * self.expansion\n",
    "    \n",
    "    @property\n",
    "    def should_apply_shortcut(self):\n",
    "        return self.in_channels != self.expanded_channels\n",
    "\n",
    "def conv_bn(in_channels, out_channels, conv, *args, **kwargs):\n",
    "    return nn.Sequential(OrderedDict({'conv': conv(in_channels, out_channels, *args, **kwargs), \n",
    "                          'bn': nn.BatchNorm2d(out_channels) }))\n",
    "\n",
    "class ResNetBasicBlock(ResNetResidualBlock):\n",
    "    expansion = 1\n",
    "    def __init__(self, in_channels, out_channels, activation=nn.ReLU, *args, **kwargs):\n",
    "        super().__init__(in_channels, out_channels, *args, **kwargs)\n",
    "        self.blocks = nn.Sequential(\n",
    "            conv_bn(self.in_channels, self.out_channels, conv=self.conv, bias=False, stride=self.downsampling),\n",
    "            activation(),\n",
    "            conv_bn(self.out_channels, self.expanded_channels, conv=self.conv, bias=False),\n",
    "        )\n",
    "\n",
    "class ResNetBottleNeckBlock(ResNetResidualBlock):\n",
    "    expansion = 4\n",
    "    def __init__(self, in_channels, out_channels, activation=nn.ReLU, *args, **kwargs):\n",
    "        super().__init__(in_channels, out_channels, expansion=4, *args, **kwargs)\n",
    "        self.blocks = nn.Sequential(\n",
    "           conv_bn(self.in_channels, self.out_channels, self.conv, kernel_size=1),\n",
    "             activation(),\n",
    "             conv_bn(self.out_channels, self.out_channels, self.conv, kernel_size=3, stride=self.downsampling),\n",
    "             activation(),\n",
    "             conv_bn(self.out_channels, self.expanded_channels, self.conv, kernel_size=1),\n",
    "        )\n",
    "class ResNetLayer(nn.Module):\n",
    "    def __init__(self, in_channels, out_channels, block=ResNetBasicBlock, n=1, *args, **kwargs):\n",
    "        super().__init__()\n",
    "        # 'We perform downsampling directly by convolutional layers that have a stride of 2.'\n",
    "        downsampling = 2 if in_channels != out_channels else 1\n",
    "        \n",
    "        self.blocks = nn.Sequential(\n",
    "            block(in_channels , out_channels, *args, **kwargs, downsampling=downsampling),\n",
    "            *[block(out_channels * block.expansion, \n",
    "                    out_channels, downsampling=1, *args, **kwargs) for _ in range(n - 1)]\n",
    "        )\n",
    "\n",
    "    def forward(self, x):\n",
    "        x = self.blocks(x)\n",
    "        return x\n",
    "class ResNetEncoder(nn.Module):\n",
    "    \"\"\"\n",
    "    ResNet encoder composed by increasing different layers with increasing features.\n",
    "    \"\"\"\n",
    "    def __init__(self, in_channels=3, blocks_sizes=[64, 128, 128, 256], deepths=[2,2,2,2], \n",
    "                 activation=nn.ReLU, block=ResNetBasicBlock, *args,**kwargs):\n",
    "        super().__init__()\n",
    "        \n",
    "        self.blocks_sizes = blocks_sizes\n",
    "        \n",
    "        self.gate = nn.Sequential(\n",
    "            nn.utils.spectral_norm(nn.Conv2d(in_channels, self.blocks_sizes[0], kernel_size=7, stride=2, padding=3, bias=False)),\n",
    "            nn.BatchNorm2d(self.blocks_sizes[0]),\n",
    "            activation(),\n",
    "            nn.MaxPool2d(kernel_size=3, stride=2, padding=1)\n",
    "        )\n",
    "        \n",
    "        self.in_out_block_sizes = list(zip(blocks_sizes, blocks_sizes[1:]))\n",
    "        self.blocks = nn.ModuleList([ \n",
    "            ResNetLayer(blocks_sizes[0], blocks_sizes[0], n=deepths[0], activation=activation, \n",
    "                        block=block,  *args, **kwargs),\n",
    "            *[ResNetLayer(in_channels * block.expansion, \n",
    "                          out_channels, n=n, activation=activation, \n",
    "                          block=block, *args, **kwargs) \n",
    "              for (in_channels, out_channels), n in zip(self.in_out_block_sizes, deepths[1:])]       \n",
    "        ])\n",
    "        \n",
    "        \n",
    "    def forward(self, x):\n",
    "        x = self.gate(x)\n",
    "        for block in self.blocks:\n",
    "            x = block(x)\n",
    "        return x\n",
    "class ResnetDecoder(nn.Module):\n",
    "    \"\"\"\n",
    "    This class represents the tail of ResNet. It performs a global pooling and maps the output to the\n",
    "    correct class by using a fully connected layer.\n",
    "    \"\"\"\n",
    "    def __init__(self, in_features, n_classes):\n",
    "        super().__init__()\n",
    "        self.avg = nn.AdaptiveAvgPool2d((1, 1))\n",
    "        self.decoder = nn.utils.spectral_norm(nn.Linear(in_features, n_classes))\n",
    "\n",
    "    def forward(self, x):\n",
    "        x = self.avg(x)\n",
    "        x = x.view(x.size(0), -1)\n",
    "        x = self.decoder(x)\n",
    "        return x\n",
    "class ResNet(nn.Module):\n",
    "    \n",
    "    def __init__(self, in_channels, n_classes, *args, **kwargs):\n",
    "        super().__init__()\n",
    "        self.encoder = ResNetEncoder(in_channels, *args, **kwargs)\n",
    "        self.decoder = ResnetDecoder(self.encoder.blocks[-1].blocks[-1].expanded_channels, n_classes)\n",
    "        \n",
    "    def forward(self, x):\n",
    "        x = self.encoder(x)\n",
    "        x = self.decoder(x)\n",
    "        return x\n",
    "\n",
    "def resnet18(in_channels, n_classes):\n",
    "    return ResNet(in_channels, n_classes, block=ResNetBasicBlock, deepths=[2, 2, 2, 2])\n"
   ]
  },
  {
   "cell_type": "code",
   "execution_count": null,
   "metadata": {
    "cell_id": "00007-1c682344-8e67-4ff8-be82-fc926e998c3a",
    "deepnote_cell_type": "code",
    "executionInfo": {
     "elapsed": 326,
     "status": "ok",
     "timestamp": 1608312567937,
     "user": {
      "displayName": "Varun Tekur",
      "photoUrl": "",
      "userId": "06324564564411975562"
     },
     "user_tz": 300
    },
    "execution_millis": 1,
    "execution_start": 1608363073454,
    "id": "IVT60v_A0-Jn",
    "output_cleared": false,
    "source_hash": "b1eb2361"
   },
   "outputs": [],
   "source": [
    "class Net(nn.Module):\n",
    "\n",
    "    def __init__(self,latent_space_dim, rff_count):\n",
    "        super(Net, self).__init__()\n",
    "        # MLP\n",
    "        self.latent_space_dim = latent_space_dim\n",
    "        self.rff_count = rff_count\n",
    "        self.D_L = torch.tensor(rff_count)\n",
    "        # self.dim_increase = nn.utils.spectral_norm(nn.Linear(2, latent_space_dim))\n",
    "        # self.dim_decrease = nn.utils.spectral_norm(nn.Linear(256, latent_space_dim))\n",
    "        self.W = torch.reshape(torch.distributions.normal.Normal(torch.tensor([0.0]), torch.tensor([1.0])).sample((rff_count,latent_space_dim)), (rff_count,latent_space_dim)) \n",
    "        self.b = torch.distributions.Uniform(torch.tensor([0.0]), torch.tensor([2.0 * math.pi])).sample((rff_count,))\n",
    "        self.beta_0 = torch.nn.Parameter(torch.randn(rff_count))\n",
    "        self.beta_1 = torch.nn.Parameter(torch.randn(rff_count))\n",
    "        self.resnet =  resnet18(3, latent_space_dim)\n",
    "        #self.fin = nn.utils.spectral_norm(torch.nn.Linear(2,1))\n",
    "    \n",
    "    def get_latent_representation(self,x):\n",
    "        res_result = self.resnet(x)\n",
    "        return torch.transpose(res_result, 0, 1)\n",
    "    \n",
    "    def get_feature(self,x):\n",
    "        relu1 = self.get_latent_representation(x)\n",
    "        return torch.sqrt(2 / self.D_L) * torch.cos(torch.matmul(-1 * self.W, relu1) + self.b)\n",
    "    \n",
    "    def GP_layer(self, x):\n",
    "        zero_pred = torch.unsqueeze(torch.sqrt(2 / self.D_L) * torch.matmul(torch.transpose(torch.cos(torch.matmul(-1 * self.W, x) + self.b), 0, 1), self.beta_0), 1)\n",
    "        one_pred =  torch.unsqueeze(torch.sqrt(2 / self.D_L) * torch.matmul(torch.transpose(torch.cos(torch.matmul(-1 * self.W, x) + self.b), 0, 1), self.beta_1),1)\n",
    "        out = torch.cat((zero_pred,one_pred), dim=1)\n",
    "        return out\n",
    "\n",
    "    def forward(self, x):\n",
    "        relu1 = self.get_latent_representation(x)\n",
    "        GP = self.GP_layer(relu1)\n",
    "        return GP"
   ]
  },
  {
   "cell_type": "markdown",
   "metadata": {
    "cell_id": "00006-d913635e-0149-4ade-870a-2a6f8c92581d",
    "deepnote_cell_type": "markdown",
    "tags": []
   },
   "source": [
    "## Dataset\n",
    "Below we obtain the CIFAR10 dataset from the torchvision package. For the purposes of today, we only complete a binary classification task on plane and dog. For OOD, we have images derived from ship and car class."
   ]
  },
  {
   "cell_type": "code",
   "execution_count": null,
   "metadata": {
    "cell_id": "00012-0939adc8-8172-4748-aba0-72b0569d2320",
    "colab": {
     "base_uri": "https://localhost:8080/"
    },
    "deepnote_cell_type": "code",
    "executionInfo": {
     "elapsed": 2640,
     "status": "ok",
     "timestamp": 1608312864490,
     "user": {
      "displayName": "Varun Tekur",
      "photoUrl": "",
      "userId": "06324564564411975562"
     },
     "user_tz": 300
    },
    "execution_millis": 1667,
    "execution_start": 1608364324406,
    "id": "6tX1EQUa3KrZ",
    "outputId": "c140552e-2d77-41e2-95cd-ffb53a23a30f",
    "output_cleared": false,
    "source_hash": "b195f086"
   },
   "outputs": [
    {
     "name": "stdout",
     "output_type": "stream",
     "text": [
      "Files already downloaded and verified\n",
      "Files already downloaded and verified\n"
     ]
    }
   ],
   "source": [
    "import torchvision\n",
    "import torchvision.transforms as transforms\n",
    "from torchvision.datasets import CIFAR10\n",
    "from torch.utils.data import Dataset, DataLoader\n",
    "import numpy as np\n",
    "# Transformations\n",
    "RC   = transforms.RandomCrop(32, padding=4)\n",
    "RHF  = transforms.RandomHorizontalFlip()\n",
    "RVF  = transforms.RandomVerticalFlip()\n",
    "NRM  = transforms.Normalize((0.4914, 0.4822, 0.4465), (0.2023, 0.1994, 0.2010))\n",
    "TT   = transforms.ToTensor()\n",
    "TPIL = transforms.ToPILImage()\n",
    "\n",
    "# Transforms object for trainset with augmentation\n",
    "transform_with_aug = transforms.Compose([TPIL, RC, RHF, TT, NRM])\n",
    "# Transforms object for testset with NO augmentation\n",
    "transform_no_aug   = transforms.Compose([TT, NRM])\n",
    "\n",
    "# Downloading/Louding CIFAR10 data\n",
    "trainset  = CIFAR10(root='./data', train=True , download=True)#, transform = transform_with_aug)\n",
    "testset   = CIFAR10(root='./data', train=False, download=True)#, transform = transform_no_aug)\n",
    "classDict = {'plane':0, 'car':1, 'bird':2, 'cat':3, 'deer':4, 'dog':5, 'frog':6, 'horse':7, 'ship':8, 'truck':9}\n",
    "\n",
    "# Separating trainset/testset data/label\n",
    "x_train = trainset.data\n",
    "x_test = testset.data\n",
    "y_train = trainset.targets\n",
    "y_test = testset.targets\n",
    "\n",
    "# Define a function to separate CIFAR classes by class index\n",
    "\n",
    "def get_class_i(x, y, i):\n",
    "    \"\"\"\n",
    "    x: trainset.train_data or testset.test_data\n",
    "    y: trainset.train_labels or testset.test_labels\n",
    "    i: class label, a number between 0 to 9\n",
    "    return: x_i\n",
    "    \"\"\"\n",
    "    # Convert to a numpy array\n",
    "    y = np.array(y)\n",
    "    # Locate position of labels that equal to i\n",
    "    pos_i = np.argwhere(y == i)\n",
    "    # Convert the result into a 1-D list\n",
    "    pos_i = list(pos_i[:,0])\n",
    "    # Collect all data that match the desired label\n",
    "    x_i = [x[j] for j in pos_i]\n",
    "    \n",
    "    return x_i\n",
    "\n",
    "class DatasetMaker(Dataset):\n",
    "    def __init__(self, datasets, transformFunc = transform_no_aug):\n",
    "        \"\"\"\n",
    "        datasets: a list of get_class_i outputs, i.e. a list of list of images for selected classes\n",
    "        \"\"\"\n",
    "        self.datasets = datasets\n",
    "        self.lengths  = [len(d) for d in self.datasets]\n",
    "        self.transformFunc = transformFunc\n",
    "    def __getitem__(self, i):\n",
    "        class_label, index_wrt_class = self.index_of_which_bin(self.lengths, i)\n",
    "        img = self.datasets[class_label][index_wrt_class]\n",
    "        img = self.transformFunc(img)\n",
    "        return img, class_label\n",
    "\n",
    "    def __len__(self):\n",
    "        return sum(self.lengths)\n",
    "    \n",
    "    def index_of_which_bin(self, bin_sizes, absolute_index, verbose=False):\n",
    "        \"\"\"\n",
    "        Given the absolute index, returns which bin it falls in and which element of that bin it corresponds to.\n",
    "        \"\"\"\n",
    "        # Which class/bin does i fall into?\n",
    "        accum = np.add.accumulate(bin_sizes)\n",
    "        if verbose:\n",
    "            print(\"accum =\", accum)\n",
    "        bin_index  = len(np.argwhere(accum <= absolute_index))\n",
    "        if verbose:\n",
    "            print(\"class_label =\", bin_index)\n",
    "        # Which element of the fallent class/bin does i correspond to?\n",
    "        index_wrt_class = absolute_index - np.insert(accum, 0, 0)[bin_index]\n",
    "        if verbose:\n",
    "            print(\"index_wrt_class =\", index_wrt_class)\n",
    "\n",
    "        return bin_index, index_wrt_class\n",
    "\n",
    "# ================== Usage ================== #\n",
    "\n",
    "# Let's choose cats (class 3 of CIFAR) and dogs (class 5 of CIFAR) as trainset/testset\n",
    "plane_dog_trainset = \\\n",
    "    DatasetMaker(\n",
    "        [get_class_i(x_train, y_train, classDict['plane']), get_class_i(x_train, y_train, classDict['dog'])],\n",
    "        transform_with_aug\n",
    "    )\n",
    "plane_dog_testset  = \\\n",
    "    DatasetMaker(\n",
    "        [get_class_i(x_test , y_test , classDict['plane']), get_class_i(x_test , y_test , classDict['dog'])],\n",
    "        transform_no_aug\n",
    "    )\n",
    "ship_car_set = \\\n",
    "    DatasetMaker(\n",
    "        [get_class_i(x_test , y_test , classDict['ship']), get_class_i(x_test , y_test , classDict['car'])],\n",
    "        transform_no_aug\n",
    "    )\n",
    "\n",
    "kwargs = {'num_workers': 2, 'pin_memory': False}\n",
    "\n",
    "# Create datasetLoaders from trainset and testset\n",
    "trainsetLoader   = DataLoader(plane_dog_trainset, batch_size=50, shuffle=True , **kwargs)\n",
    "testsetLoader    = DataLoader(plane_dog_trainset , batch_size=50, shuffle=False, **kwargs)\n",
    "oodLoader    = DataLoader(ship_car_set , batch_size=64, shuffle=False, **kwargs)"
   ]
  },
  {
   "cell_type": "code",
   "execution_count": null,
   "metadata": {
    "cell_id": "00013-20b0eb6d-6bb7-4d72-a3e5-c08478544baf",
    "colab": {
     "base_uri": "https://localhost:8080/",
     "height": 303
    },
    "deepnote_cell_type": "code",
    "executionInfo": {
     "elapsed": 769,
     "status": "ok",
     "timestamp": 1608312866897,
     "user": {
      "displayName": "Varun Tekur",
      "photoUrl": "",
      "userId": "06324564564411975562"
     },
     "user_tz": 300
    },
    "execution_millis": 333,
    "execution_start": 1608363082297,
    "id": "CO-A23JRwMQN",
    "outputId": "df9c652c-a02b-45b8-f50e-3b092281f681",
    "output_cleared": false,
    "source_hash": "121f25e7"
   },
   "outputs": [
    {
     "name": "stderr",
     "output_type": "stream",
     "text": [
      "Clipping input data to the valid range for imshow with RGB data ([0..1] for floats or [0..255] for integers).\n"
     ]
    },
    {
     "data": {
      "image/png": "[encoded data removed]",
      "text/plain": [
       "<Figure size 432x288 with 1 Axes>"
      ]
     },
     "metadata": {
      "needs_background": "light"
     },
     "output_type": "display_data"
    },
    {
     "name": "stdout",
     "output_type": "stream",
     "text": [
      "plane   car\n"
     ]
    }
   ],
   "source": [
    "import matplotlib.pyplot as plt\n",
    "import numpy as np\n",
    "\n",
    "# functions to show an image\n",
    "\n",
    "\n",
    "def imshow(img):\n",
    "    img = img / 2 + 0.5     # unnormalize\n",
    "    npimg = img.numpy()\n",
    "    plt.imshow(np.transpose(npimg, (1, 2, 0)))\n",
    "    plt.show()\n",
    "\n",
    "\n",
    "# get some random training images\n",
    "dataiter = iter(trainsetLoader)\n",
    "images, labels = dataiter.next()\n",
    "\n",
    "# show images\n",
    "imshow(torchvision.utils.make_grid(images))\n",
    "# print labels\n",
    "print(' '.join('%5s' % classes[labels[j]] for j in range(2)))"
   ]
  },
  {
   "cell_type": "markdown",
   "metadata": {
    "cell_id": "00009-9d51b23c-c3a6-4f62-985c-cf7bcfae4605",
    "deepnote_cell_type": "markdown",
    "tags": []
   },
   "source": [
    "## Training"
   ]
  },
  {
   "cell_type": "markdown",
   "metadata": {
    "cell_id": "00010-a54d5f64-6f0b-47f5-9213-013891d2857b",
    "deepnote_cell_type": "markdown",
    "tags": []
   },
   "source": [
    "We create a model with an RFF of 1024 and a latent feature size of 2. We use Adam to train. Loss results are below."
   ]
  },
  {
   "cell_type": "code",
   "execution_count": null,
   "metadata": {
    "cell_id": "00014-4a5ae13c-f62a-49a4-97a3-bab5d9c0cb0f",
    "deepnote_cell_type": "code",
    "executionInfo": {
     "elapsed": 354,
     "status": "ok",
     "timestamp": 1608313474259,
     "user": {
      "displayName": "Varun Tekur",
      "photoUrl": "",
      "userId": "06324564564411975562"
     },
     "user_tz": 300
    },
    "execution_millis": 1,
    "execution_start": 1608363477494,
    "id": "WhnB42Q8w5-F",
    "output_cleared": false,
    "source_hash": "2af4b517"
   },
   "outputs": [],
   "source": [
    "import torch.optim as optim\n",
    "\n",
    "model = Net(2,1024)\n",
    "criterion = nn.CrossEntropyLoss()\n",
    "optimizer = optim.Adam(model.parameters(), lr=0.03)"
   ]
  },
  {
   "cell_type": "code",
   "execution_count": null,
   "metadata": {
    "cell_id": "00015-a3cdbd06-d300-438f-8fbc-c62c07b7b38a",
    "colab": {
     "background_save": true,
     "base_uri": "https://localhost:8080/"
    },
    "deepnote_cell_type": "code",
    "execution_millis": 243687,
    "execution_start": 1608363500050,
    "id": "G7mP0R24xCFb",
    "output_cleared": false,
    "source_hash": "567265ca"
   },
   "outputs": [
    {
     "name": "stdout",
     "output_type": "stream",
     "text": [
      "[1,         10] loss: 0.678\n",
      "[1,         20] loss: 0.624\n",
      "[1,         30] loss: 0.589\n",
      "[1,         40] loss: 0.540\n",
      "[1,         50] loss: 0.478\n",
      "[1,         60] loss: 0.450\n",
      "[1,         70] loss: 0.450\n",
      "[1,         80] loss: 0.530\n",
      "[1,         90] loss: 0.463\n",
      "[1,        100] loss: 0.468\n",
      "[1,        110] loss: 0.377\n",
      "[1,        120] loss: 0.376\n",
      "[1,        130] loss: 0.389\n",
      "[1,        140] loss: 0.331\n",
      "[1,        150] loss: 0.329\n",
      "[1,        160] loss: 0.393\n",
      "[1,        170] loss: 0.305\n",
      "[1,        180] loss: 0.341\n",
      "[1,        190] loss: 0.407\n",
      "[1,        200] loss: 0.522\n",
      "[2,         10] loss: 0.335\n",
      "[2,         20] loss: 0.425\n",
      "[2,         30] loss: 0.333\n",
      "[2,         40] loss: 0.334\n",
      "[2,         50] loss: 0.291\n",
      "[2,         60] loss: 0.299\n",
      "[2,         70] loss: 0.318\n",
      "[2,         80] loss: 0.334\n",
      "[2,         90] loss: 0.317\n",
      "[2,        100] loss: 0.316\n",
      "[2,        110] loss: 0.282\n",
      "[2,        120] loss: 0.434\n",
      "[2,        130] loss: 0.315\n",
      "[2,        140] loss: 0.346\n",
      "[2,        150] loss: 0.291\n",
      "[2,        160] loss: 0.335\n",
      "[2,        170] loss: 0.406\n",
      "[2,        180] loss: 0.329\n",
      "[2,        190] loss: 0.300\n",
      "[2,        200] loss: 0.291\n",
      "[3,         10] loss: 0.252\n",
      "[3,         20] loss: 0.301\n",
      "[3,         30] loss: 0.266\n",
      "[3,         40] loss: 0.276\n",
      "[3,         50] loss: 0.267\n",
      "[3,         60] loss: 0.325\n",
      "[3,         70] loss: 0.294\n",
      "[3,         80] loss: 0.228\n",
      "[3,         90] loss: 0.214\n",
      "[3,        100] loss: 0.229\n",
      "[3,        110] loss: 0.310\n",
      "[3,        120] loss: 0.327\n",
      "[3,        130] loss: 0.231\n",
      "[3,        140] loss: 0.304\n",
      "[3,        150] loss: 0.305\n",
      "[3,        160] loss: 0.280\n",
      "[3,        170] loss: 0.291\n",
      "[3,        180] loss: 0.281\n",
      "[3,        190] loss: 0.283\n",
      "[3,        200] loss: 0.305\n",
      "[4,         10] loss: 0.248\n",
      "[4,         20] loss: 0.247\n",
      "[4,         30] loss: 0.298\n",
      "[4,         40] loss: 0.319\n",
      "[4,         50] loss: 0.250\n",
      "[4,         60] loss: 0.286\n",
      "[4,         70] loss: 0.247\n",
      "[4,         80] loss: 0.252\n",
      "[4,         90] loss: 0.281\n",
      "[4,        100] loss: 0.247\n",
      "[4,        110] loss: 0.263\n",
      "[4,        120] loss: 0.227\n",
      "[4,        130] loss: 0.251\n",
      "[4,        140] loss: 0.198\n",
      "[4,        150] loss: 0.219\n",
      "[4,        160] loss: 0.203\n",
      "[4,        170] loss: 0.416\n",
      "[4,        180] loss: 0.431\n",
      "[4,        190] loss: 0.384\n",
      "[4,        200] loss: 0.332\n",
      "[5,         10] loss: 0.300\n",
      "[5,         20] loss: 0.344\n",
      "[5,         30] loss: 0.357\n",
      "[5,         40] loss: 0.233\n",
      "[5,         50] loss: 0.301\n",
      "[5,         60] loss: 0.328\n",
      "[5,         70] loss: 0.257\n",
      "[5,         80] loss: 0.246\n",
      "[5,         90] loss: 0.357\n",
      "[5,        100] loss: 0.241\n",
      "[5,        110] loss: 0.261\n",
      "[5,        120] loss: 0.262\n",
      "[5,        130] loss: 0.231\n",
      "[5,        140] loss: 0.331\n",
      "[5,        150] loss: 0.379\n",
      "[5,        160] loss: 0.292\n",
      "[5,        170] loss: 0.312\n",
      "[5,        180] loss: 0.252\n",
      "[5,        190] loss: 0.287\n",
      "[5,        200] loss: 0.299\n",
      "Finished Training\n"
     ]
    }
   ],
   "source": [
    "for epoch in range(5):  # loop over the dataset multiple times\n",
    "\n",
    "    running_loss = 0.0\n",
    "    for i, data in enumerate(trainsetLoader, 0):\n",
    "        # get the inputs; data is a list of [inputs, labels]\n",
    "        inputs, labels = data\n",
    "\n",
    "        # zero the parameter gradients\n",
    "        optimizer.zero_grad()\n",
    "\n",
    "        # forward + backward + optimize\n",
    "        outputs = model(inputs)\n",
    "        loss = criterion(outputs, labels.reshape(labels.shape[0]).long())\n",
    "        loss.backward()\n",
    "        optimizer.step()\n",
    "\n",
    "        # print statistics\n",
    "        running_loss += loss.item()\n",
    "        if i % 10 == 9:    # print every 500 images\n",
    "            print('[%d, %10d] loss: %.3f' %\n",
    "                  (epoch + 1, i + 1, running_loss / 10))\n",
    "            running_loss = 0.0\n",
    "            # correct = 0\n",
    "            # total = 0\n",
    "            # with torch.no_grad():\n",
    "            #     for data in trainsetLoader:\n",
    "            #         images, labels = data\n",
    "            #         # images, labels = data[0].to(device), data[1].to(device)\n",
    "            #         outputs = model(images)\n",
    "            #         _, predicted = torch.max(outputs.data, 1)\n",
    "            #         total += labels.size(0)\n",
    "            #         correct += (predicted == labels).sum().item()\n",
    "            #         break\n",
    "\n",
    "            # print('Accuracy of the network on the 10000 test images: %d %%' % (\n",
    "            #     100 * correct / total))\n",
    "\n",
    "print('Finished Training')"
   ]
  },
  {
   "cell_type": "code",
   "execution_count": null,
   "metadata": {
    "cell_id": "00016-3fac2191-c343-4766-9bc7-a011857fe271",
    "colab": {
     "base_uri": "https://localhost:8080/",
     "height": 304
    },
    "deepnote_cell_type": "code",
    "executionInfo": {
     "elapsed": 952,
     "status": "ok",
     "timestamp": 1608278709734,
     "user": {
      "displayName": "Javin Pombra",
      "photoUrl": "",
      "userId": "09920715699213375741"
     },
     "user_tz": 480
    },
    "execution_millis": 247,
    "execution_start": 1608363786150,
    "id": "POspCafw0XQv",
    "outputId": "40fa40d4-d815-4de2-9e9d-4dd5b22d32a6",
    "output_cleared": false,
    "source_hash": "e56fde80"
   },
   "outputs": [
    {
     "name": "stderr",
     "output_type": "stream",
     "text": [
      "Clipping input data to the valid range for imshow with RGB data ([0..1] for floats or [0..255] for integers).\n"
     ]
    },
    {
     "data": {
      "image/png": "[encoded data removed]",
      "text/plain": [
       "<Figure size 432x288 with 1 Axes>"
      ]
     },
     "metadata": {
      "needs_background": "light"
     },
     "output_type": "display_data"
    }
   ],
   "source": [
    "dataiter = iter(testsetLoader)\n",
    "images, labels = dataiter.next()\n",
    "\n",
    "# print images\n",
    "imshow(torchvision.utils.make_grid(images))\n",
    "# print('GroundTruth: ', ' '.join('%5s' % classes[labels[j]] for j in range(2)))"
   ]
  },
  {
   "cell_type": "code",
   "execution_count": null,
   "metadata": {
    "cell_id": "00017-cc96ec39-910e-4051-aedf-adc1339ad546",
    "colab": {
     "base_uri": "https://localhost:8080/"
    },
    "deepnote_cell_type": "code",
    "executionInfo": {
     "elapsed": 43037,
     "status": "ok",
     "timestamp": 1608288034675,
     "user": {
      "displayName": "Javin Pombra",
      "photoUrl": "",
      "userId": "09920715699213375741"
     },
     "user_tz": 480
    },
    "execution_millis": 21780,
    "execution_start": 1608363790898,
    "id": "CBrxdCF_0js0",
    "outputId": "d4a3ff02-3910-48d2-a95e-70ff700b56d4",
    "output_cleared": false,
    "source_hash": "a2090883"
   },
   "outputs": [
    {
     "name": "stdout",
     "output_type": "stream",
     "text": [
      "Accuracy of the network on the 10000 test images: 89 %\n"
     ]
    }
   ],
   "source": [
    "correct = 0\n",
    "total = 0\n",
    "with torch.no_grad():\n",
    "    for data in trainsetLoader:\n",
    "        images, labels = data\n",
    "        # images, labels = data[0].to(device), data[1].to(device)\n",
    "        outputs = model(images)\n",
    "        _, predicted = torch.max(outputs.data, 1)\n",
    "        total += labels.size(0)\n",
    "        correct += (predicted == labels).sum().item()\n",
    "\n",
    "print('Accuracy of the network on the 10000 test images: %d %%' % (\n",
    "    100 * correct / total))"
   ]
  },
  {
   "cell_type": "markdown",
   "metadata": {
    "cell_id": "00015-91ce6ceb-e3d8-4753-9983-c55c0e4a6f67",
    "deepnote_cell_type": "markdown",
    "tags": []
   },
   "source": [
    "Ultimately, we recieve an 89% accuracy. This score is not bad, however, considering our large-scale architecture and the intense resources and time that training takes, one would expect better given a binary classification. Moreover, a large search of hyperparameters had to be completed to ultimately achieve high accuracy. While we do gain uncertainty through this, the trade-off is significant."
   ]
  },
  {
   "cell_type": "code",
   "execution_count": null,
   "metadata": {
    "cell_id": "00018-3cd68bf7-37cd-417a-b7c0-93aceb4acc21",
    "deepnote_cell_type": "code",
    "execution_millis": 0,
    "execution_start": 1608363812679,
    "id": "PcuzbbgmwMQN",
    "output_cleared": false,
    "source_hash": "5926dc0c"
   },
   "outputs": [],
   "source": [
    "def compute_inv_cov(dataset, net, class_num):\n",
    "    ridge_penalty = 1e-6 # from edward2 codebase; not mentioned in the paper\n",
    "    # train_ds = TestDataset(dataset)\n",
    "    train_loader = dataset\n",
    "    inv_cov = torch.eye(net.rff_count) * ridge_penalty\n",
    "    for i, batch in enumerate(train_loader):\n",
    "        estimate = torch.zeros((net.rff_count,net.rff_count))\n",
    "        inputs, labels = batch\n",
    "        # print(net.get_feature(inputs))\n",
    "        features = torch.transpose(net.get_feature(inputs),0,1)\n",
    "        logits = net(inputs)\n",
    "        for j in range(labels.shape[0]):\n",
    "            p = torch.nn.functional.softmax(logits[j].reshape(1,2), 1)\n",
    "            feature = torch.unsqueeze(features[j],1) # Phi\n",
    "            k = torch.matmul(feature, torch.transpose(feature,0,1))\n",
    "            estimate += (p[0][class_num]*(1-p[0][class_num])*k)\n",
    "            #estimate += (torch.sqrt(p[0][class_num]*(1-p[0][class_num]))*k) # sqrt doesn't seem to make a difference in uncertainties\n",
    "    inv_cov = inv_cov + estimate\n",
    "    return inv_cov"
   ]
  },
  {
   "cell_type": "code",
   "execution_count": null,
   "metadata": {
    "cell_id": "00019-1da92165-55a2-4711-aa5f-3f8b604d9a0f",
    "deepnote_cell_type": "code",
    "execution_millis": 0,
    "execution_start": 1608363812680,
    "id": "cnmMdFjIwMQO",
    "output_cleared": false,
    "source_hash": "59a145d7"
   },
   "outputs": [],
   "source": [
    "def get_cov_and_show_variances(dataset, ood, net):\n",
    "    inv_cov = compute_inv_cov(dataset, net, 1)\n",
    "    cov = torch.from_numpy(np.linalg.inv(inv_cov.detach().numpy()))\n",
    "    # Quick symmetry test\n",
    "    # if(cov[0][3] != cov[3][0]):\n",
    "        # print(\"COVARIANCE MATRIX ERROR: INVERSION NOT SYMMETRIC\")\n",
    "\n",
    "    # Compute average variance for ind\n",
    "    invalid = False\n",
    "    avg_ind = 0\n",
    "    size = 0\n",
    "    for i, batch in enumerate(dataset):\n",
    "      inputs, labels = batch\n",
    "      features = torch.transpose(net.get_feature(inputs),0,1)\n",
    "      size = size + labels.shape[0]\n",
    "      for j in range(labels.shape[0]):\n",
    "        feature = torch.unsqueeze(features[j],1) # Phi\n",
    "        variance = torch.transpose(feature,0,1).mm(cov).mm(feature)\n",
    "        if variance.item() < 0:\n",
    "            invalid = True\n",
    "        # print(\"Variance: \", variance)\n",
    "        avg_ind += variance.item()\n",
    "\n",
    "    #Compute average variance for ood\n",
    "    avg_ood = 0\n",
    "    size_ood = 0\n",
    "    for i, batch in enumerate(ood):\n",
    "        inputs, labels = batch\n",
    "        features = torch.transpose(net.get_feature(inputs),0,1)\n",
    "        size_ood = size_ood + labels.shape[0]\n",
    "        for j in range(labels.shape[0]):\n",
    "          feature = torch.unsqueeze(features[j],1) # Phi\n",
    "          variance = torch.transpose(feature,0,1).mm(cov).mm(feature)\n",
    "          if variance.item() < 0:\n",
    "              invalid = True\n",
    "          # print(\"Variance: \", variance)\n",
    "          avg_ood += variance.item()\n",
    "\n",
    "    if invalid:\n",
    "        print(\"COVARIANCE MATRIX ERROR: NEGATIVE VARIANCE COMPUTED\")\n",
    "\n",
    "    print('Avg. variance for ind:', avg_ind/size)\n",
    "    print('Avg. variance for ood:', avg_ood/size_ood)\n",
    "\n",
    "    # return cov, avg_ind/len(dataset[0]),avg_ood/len(ood[0])"
   ]
  },
  {
   "cell_type": "code",
   "execution_count": null,
   "metadata": {
    "cell_id": "00020-5f9181db-f1e8-40af-bb25-918206d9a41c",
    "colab": {
     "base_uri": "https://localhost:8080/",
     "height": 310
    },
    "deepnote_cell_type": "code",
    "executionInfo": {
     "elapsed": 795,
     "status": "error",
     "timestamp": 1608288463983,
     "user": {
      "displayName": "Javin Pombra",
      "photoUrl": "",
      "userId": "09920715699213375741"
     },
     "user_tz": 480
    },
    "execution_millis": 83525,
    "execution_start": 1608363812726,
    "id": "uO_j5dfm6Li7",
    "outputId": "5eed5236-b1c7-4248-fc87-13b35d0efc87",
    "output_cleared": false,
    "source_hash": "9ef0f4c2"
   },
   "outputs": [
    {
     "name": "stdout",
     "output_type": "stream",
     "text": [
      "Avg. variance for ind: 62356.15169916924\n",
      "Avg. variance for ood: 105900.34922652328\n"
     ]
    }
   ],
   "source": [
    "get_cov_and_show_variances(trainsetLoader, oodLoader, model)"
   ]
  },
  {
   "cell_type": "markdown",
   "metadata": {
    "cell_id": "00019-25bf6333-0855-4582-9e5e-61fb01e0d772",
    "deepnote_cell_type": "markdown",
    "tags": []
   },
   "source": [
    "Our initial experiment illustrates that we are able to achieve a significant difference in in-distribution and out-of-distribution data, even when both images are from a similar source. We expect better variance when doing OOD detection on other datasets including MNIST/Street View House Number. However, the variance for ind is still high and the difference between ind and ood is still less significant than for our toy examples. Training with a more heavyweight infastructure and continued hyperparameter search may be a future solution."
   ]
  },
  {
   "cell_type": "markdown",
   "metadata": {
    "cell_id": "00021-06dc0474-e399-4a8c-9b5c-006f18127feb",
    "deepnote_cell_type": "markdown",
    "id": "tCtxJr6eIgs5"
   },
   "source": [
    "## Basic CNN network To Compare\n"
   ]
  },
  {
   "cell_type": "markdown",
   "metadata": {
    "cell_id": "00021-a013bc1a-a275-429d-a186-0a5346b220c9",
    "deepnote_cell_type": "markdown",
    "tags": []
   },
   "source": [
    "Below is a lightweight architecture (only 2 convolutional layers) to compare with our very large ResNet architecture. We show that we achieve better accuracy through faster training time/less resources."
   ]
  },
  {
   "cell_type": "code",
   "execution_count": null,
   "metadata": {
    "cell_id": "00022-c736d199-cc90-4af3-962f-0fa5482a90b6",
    "deepnote_cell_type": "code",
    "execution_millis": 3,
    "execution_start": 1608364904485,
    "id": "q2qHPHvYIjTS",
    "output_cleared": false,
    "source_hash": "be123ef8"
   },
   "outputs": [],
   "source": [
    "\n",
    "class Net(nn.Module):\n",
    "    def __init__(self):\n",
    "        super(Net, self).__init__()\n",
    "        self.conv1 = nn.Conv2d(3, 6, 5)\n",
    "        self.pool = nn.MaxPool2d(2, 2)\n",
    "        self.conv2 = nn.Conv2d(6, 16, 5)\n",
    "        self.fc1 = nn.Linear(16 * 5 * 5, 120)\n",
    "        self.fc2 = nn.Linear(120, 84)\n",
    "        self.fc3 = nn.Linear(84, 1)\n",
    "        self.fc4 = nn.Sigmoid()\n",
    "\n",
    "    def forward(self, x):\n",
    "        x = self.pool(F.relu(self.conv1(x))) \n",
    "        x = self.pool(F.relu(self.conv2(x))) \n",
    "        x = x.view(-1, 16 * 5 * 5)\n",
    "        x = F.relu(self.fc1(x)) \n",
    "        x = F.relu(self.fc2(x)) \n",
    "        x = self.fc3(x) \n",
    "        x = self.fc4(x)\n",
    "        return x\n",
    "\n",
    "\n",
    "net = Net()"
   ]
  },
  {
   "cell_type": "code",
   "execution_count": null,
   "metadata": {
    "cell_id": "00024-d2dad6db-ddd7-4bd7-82a6-1e8e85950c40",
    "colab": {
     "base_uri": "https://localhost:8080/",
     "height": 380
    },
    "deepnote_cell_type": "code",
    "executionInfo": {
     "elapsed": 555,
     "status": "error",
     "timestamp": 1608287857905,
     "user": {
      "displayName": "Javin Pombra",
      "photoUrl": "",
      "userId": "09920715699213375741"
     },
     "user_tz": 480
    },
    "execution_millis": 87330,
    "execution_start": 1608364908159,
    "id": "TAKdZK69PwtV",
    "outputId": "1c40d9b8-9d2f-464c-e66d-7ca1bebb1b50",
    "output_cleared": false,
    "source_hash": "c115faa2"
   },
   "outputs": [
    {
     "name": "stdout",
     "output_type": "stream",
     "text": [
      "[1,    10] loss: 0.692\n",
      "[1,    20] loss: 0.687\n",
      "[1,    30] loss: 0.656\n",
      "[1,    40] loss: 0.579\n",
      "[1,    50] loss: 0.500\n",
      "[1,    60] loss: 0.402\n",
      "[1,    70] loss: 0.353\n",
      "[1,    80] loss: 0.362\n",
      "[1,    90] loss: 0.355\n",
      "[1,   100] loss: 0.339\n",
      "[1,   110] loss: 0.292\n",
      "[1,   120] loss: 0.306\n",
      "[1,   130] loss: 0.331\n",
      "[1,   140] loss: 0.350\n",
      "[1,   150] loss: 0.305\n",
      "[1,   160] loss: 0.346\n",
      "[1,   170] loss: 0.272\n",
      "[1,   180] loss: 0.328\n",
      "[1,   190] loss: 0.242\n",
      "[1,   200] loss: 0.283\n",
      "[2,    10] loss: 0.345\n",
      "[2,    20] loss: 0.274\n",
      "[2,    30] loss: 0.340\n",
      "[2,    40] loss: 0.292\n",
      "[2,    50] loss: 0.308\n",
      "[2,    60] loss: 0.262\n",
      "[2,    70] loss: 0.218\n",
      "[2,    80] loss: 0.270\n",
      "[2,    90] loss: 0.242\n",
      "[2,   100] loss: 0.254\n",
      "[2,   110] loss: 0.295\n",
      "[2,   120] loss: 0.265\n",
      "[2,   130] loss: 0.287\n",
      "[2,   140] loss: 0.243\n",
      "[2,   150] loss: 0.225\n",
      "[2,   160] loss: 0.329\n",
      "[2,   170] loss: 0.294\n",
      "[2,   180] loss: 0.240\n",
      "[2,   190] loss: 0.254\n",
      "[2,   200] loss: 0.218\n",
      "[3,    10] loss: 0.227\n",
      "[3,    20] loss: 0.222\n",
      "[3,    30] loss: 0.262\n",
      "[3,    40] loss: 0.194\n",
      "[3,    50] loss: 0.243\n",
      "[3,    60] loss: 0.321\n",
      "[3,    70] loss: 0.237\n",
      "[3,    80] loss: 0.240\n",
      "[3,    90] loss: 0.214\n",
      "[3,   100] loss: 0.256\n",
      "[3,   110] loss: 0.247\n",
      "[3,   120] loss: 0.276\n",
      "[3,   130] loss: 0.259\n",
      "[3,   140] loss: 0.277\n",
      "[3,   150] loss: 0.218\n",
      "[3,   160] loss: 0.184\n",
      "[3,   170] loss: 0.240\n",
      "[3,   180] loss: 0.233\n",
      "[3,   190] loss: 0.220\n",
      "[3,   200] loss: 0.245\n",
      "[4,    10] loss: 0.222\n",
      "[4,    20] loss: 0.241\n",
      "[4,    30] loss: 0.212\n",
      "[4,    40] loss: 0.257\n",
      "[4,    50] loss: 0.250\n",
      "[4,    60] loss: 0.245\n",
      "[4,    70] loss: 0.235\n",
      "[4,    80] loss: 0.251\n",
      "[4,    90] loss: 0.175\n",
      "[4,   100] loss: 0.246\n",
      "[4,   110] loss: 0.233\n",
      "[4,   120] loss: 0.214\n",
      "[4,   130] loss: 0.222\n",
      "[4,   140] loss: 0.159\n",
      "[4,   150] loss: 0.230\n",
      "[4,   160] loss: 0.286\n",
      "[4,   170] loss: 0.247\n",
      "[4,   180] loss: 0.215\n",
      "[4,   190] loss: 0.236\n",
      "[4,   200] loss: 0.228\n",
      "[5,    10] loss: 0.209\n",
      "[5,    20] loss: 0.220\n",
      "[5,    30] loss: 0.229\n",
      "[5,    40] loss: 0.227\n",
      "[5,    50] loss: 0.269\n",
      "[5,    60] loss: 0.177\n",
      "[5,    70] loss: 0.248\n",
      "[5,    80] loss: 0.203\n",
      "[5,    90] loss: 0.206\n",
      "[5,   100] loss: 0.219\n",
      "[5,   110] loss: 0.201\n",
      "[5,   120] loss: 0.206\n",
      "[5,   130] loss: 0.244\n",
      "[5,   140] loss: 0.267\n",
      "[5,   150] loss: 0.262\n",
      "[5,   160] loss: 0.151\n",
      "[5,   170] loss: 0.264\n",
      "[5,   180] loss: 0.207\n",
      "[5,   190] loss: 0.176\n",
      "[5,   200] loss: 0.171\n",
      "[6,    10] loss: 0.207\n",
      "[6,    20] loss: 0.231\n",
      "[6,    30] loss: 0.197\n",
      "[6,    40] loss: 0.284\n",
      "[6,    50] loss: 0.234\n",
      "[6,    60] loss: 0.188\n",
      "[6,    70] loss: 0.218\n",
      "[6,    80] loss: 0.217\n",
      "[6,    90] loss: 0.207\n",
      "[6,   100] loss: 0.240\n",
      "[6,   110] loss: 0.181\n",
      "[6,   120] loss: 0.134\n",
      "[6,   130] loss: 0.202\n",
      "[6,   140] loss: 0.203\n",
      "[6,   150] loss: 0.191\n",
      "[6,   160] loss: 0.195\n",
      "[6,   170] loss: 0.219\n",
      "[6,   180] loss: 0.222\n",
      "[6,   190] loss: 0.176\n",
      "[6,   200] loss: 0.187\n",
      "[7,    10] loss: 0.238\n",
      "[7,    20] loss: 0.186\n",
      "[7,    30] loss: 0.215\n",
      "[7,    40] loss: 0.208\n",
      "[7,    50] loss: 0.171\n",
      "[7,    60] loss: 0.179\n",
      "[7,    70] loss: 0.258\n",
      "[7,    80] loss: 0.216\n",
      "[7,    90] loss: 0.195\n",
      "[7,   100] loss: 0.180\n",
      "[7,   110] loss: 0.154\n",
      "[7,   120] loss: 0.210\n",
      "[7,   130] loss: 0.213\n",
      "[7,   140] loss: 0.156\n",
      "[7,   150] loss: 0.166\n",
      "[7,   160] loss: 0.197\n",
      "[7,   170] loss: 0.155\n",
      "[7,   180] loss: 0.194\n",
      "[7,   190] loss: 0.213\n",
      "[7,   200] loss: 0.209\n",
      "[8,    10] loss: 0.164\n",
      "[8,    20] loss: 0.229\n",
      "[8,    30] loss: 0.166\n",
      "[8,    40] loss: 0.187\n",
      "[8,    50] loss: 0.258\n",
      "[8,    60] loss: 0.185\n",
      "[8,    70] loss: 0.222\n",
      "[8,    80] loss: 0.162\n",
      "[8,    90] loss: 0.180\n",
      "[8,   100] loss: 0.158\n",
      "[8,   110] loss: 0.176\n",
      "[8,   120] loss: 0.171\n",
      "[8,   130] loss: 0.177\n",
      "[8,   140] loss: 0.173\n",
      "[8,   150] loss: 0.255\n",
      "[8,   160] loss: 0.222\n",
      "[8,   170] loss: 0.203\n",
      "[8,   180] loss: 0.197\n",
      "[8,   190] loss: 0.185\n",
      "[8,   200] loss: 0.163\n",
      "[9,    10] loss: 0.171\n",
      "[9,    20] loss: 0.108\n",
      "[9,    30] loss: 0.225\n",
      "[9,    40] loss: 0.180\n",
      "[9,    50] loss: 0.237\n",
      "[9,    60] loss: 0.213\n",
      "[9,    70] loss: 0.198\n",
      "[9,    80] loss: 0.186\n",
      "[9,    90] loss: 0.163\n",
      "[9,   100] loss: 0.192\n",
      "[9,   110] loss: 0.208\n",
      "[9,   120] loss: 0.182\n",
      "[9,   130] loss: 0.182\n",
      "[9,   140] loss: 0.198\n",
      "[9,   150] loss: 0.205\n",
      "[9,   160] loss: 0.190\n",
      "[9,   170] loss: 0.202\n",
      "[9,   180] loss: 0.175\n",
      "[9,   190] loss: 0.184\n",
      "[9,   200] loss: 0.178\n",
      "[10,    10] loss: 0.145\n",
      "[10,    20] loss: 0.145\n",
      "[10,    30] loss: 0.205\n",
      "[10,    40] loss: 0.161\n",
      "[10,    50] loss: 0.177\n",
      "[10,    60] loss: 0.177\n",
      "[10,    70] loss: 0.171\n",
      "[10,    80] loss: 0.237\n",
      "[10,    90] loss: 0.193\n",
      "[10,   100] loss: 0.146\n",
      "[10,   110] loss: 0.143\n",
      "[10,   120] loss: 0.185\n",
      "[10,   130] loss: 0.241\n",
      "[10,   140] loss: 0.194\n",
      "[10,   150] loss: 0.155\n",
      "[10,   160] loss: 0.133\n",
      "[10,   170] loss: 0.152\n",
      "[10,   180] loss: 0.162\n",
      "[10,   190] loss: 0.242\n",
      "[10,   200] loss: 0.243\n",
      "Finished Training\n"
     ]
    }
   ],
   "source": [
    "criterion = nn.BCELoss()\n",
    "optimizer = optim.SGD(net.parameters(), lr=0.03, momentum=0.9)\n",
    "for epoch in range(10):  # loop over the dataset multiple times\n",
    "\n",
    "    running_loss = 0.0\n",
    "    for i, data in enumerate(trainsetLoader, 0):\n",
    "        # get the inputs; data is a list of [inputs, labels]\n",
    "        inputs, labels = data\n",
    "        # print(labels)\n",
    "        # zero the parameter gradients\n",
    "        optimizer.zero_grad()\n",
    "\n",
    "        # forward + backward + optimize\n",
    "        outputs = net(inputs)\n",
    "        loss = criterion(outputs, labels.reshape(labels.shape[0],1).float())\n",
    "        loss.backward()\n",
    "        optimizer.step()\n",
    "\n",
    "        # print statistics\n",
    "        running_loss += loss.item()\n",
    "        if i % 10 == 9:    # print every 2000 mini-batches\n",
    "            print('[%d, %5d] loss: %.3f' %\n",
    "                  (epoch + 1, i + 1, running_loss / 10))\n",
    "            running_loss = 0.0\n",
    "\n",
    "print('Finished Training')"
   ]
  },
  {
   "cell_type": "code",
   "execution_count": null,
   "metadata": {
    "cell_id": "00027-cb88368e-1f91-4239-a9c2-b81b3b0752c7",
    "colab": {
     "base_uri": "https://localhost:8080/"
    },
    "deepnote_cell_type": "code",
    "executionInfo": {
     "elapsed": 12002,
     "status": "ok",
     "timestamp": 1608286545110,
     "user": {
      "displayName": "Javin Pombra",
      "photoUrl": "",
      "userId": "09920715699213375741"
     },
     "user_tz": 480
    },
    "execution_millis": 6989,
    "execution_start": 1608365409530,
    "id": "OckxBy0WJNIB",
    "outputId": "521fb2a4-69af-4734-d773-7b812cc14262",
    "output_cleared": false,
    "source_hash": "b76fdc81"
   },
   "outputs": [
    {
     "name": "stdout",
     "output_type": "stream",
     "text": [
      "Accuracy of the network on the 10000 test images: 93 %\n"
     ]
    }
   ],
   "source": [
    "correct = 0\n",
    "total = 0\n",
    "with torch.no_grad():\n",
    "    for i,data in enumerate(testsetLoader):\n",
    "        images, labels = data\n",
    "        outputs = net(images).reshape(images.shape[0]).float()\n",
    "        output = (outputs>0.5).float()\n",
    "        correct = correct + (output == labels).float().sum()\n",
    "        total = total + images.shape[0]\n",
    "print('Accuracy of the network on the 10000 test images: %d %%' % (\n",
    "    100 * correct / total))"
   ]
  },
  {
   "cell_type": "markdown",
   "metadata": {
    "cell_id": "00025-cc4d9002-8f6b-48f3-a78f-d7b2ed09580e",
    "deepnote_cell_type": "markdown",
    "tags": []
   },
   "source": [
    "# References <a class=\"anchor\" id=\"references\"></a>\n",
    "\n",
    "1. Kaiming He, Xiangyu Zhang, Shaoqing Ren, and Jian Sun. Deep residual learning for image recognition. In Proceedings of the IEEE Conference on Computer Vision and Pattern\n",
    "Recognition, pages 770–778, 2016.\n",
    "2. A. Krizhevsky, V. Nair, and G. Hinton, “The cifar-10 dataset,” 2014"
   ]
  }
 ],
 "metadata": {
  "colab": {
   "name": "Copy of cv_sgnp.ipynb",
   "provenance": [
    {
     "file_id": "1IOINJaqkGtZ_ulrHAIYVVahvaL5gNdkj",
     "timestamp": 1608310233984
    }
   ],
   "version": ""
  },
  "deepnote_execution_queue": [],
  "deepnote_notebook_id": "490776f6-6139-4e08-b6ef-a585e704a691",
  "kernelspec": {
   "display_name": "Python 3",
   "language": "python",
   "name": "python3"
  },
  "language_info": {
   "codemirror_mode": {
    "name": "ipython",
    "version": 3
   },
   "file_extension": ".py",
   "mimetype": "text/x-python",
   "name": "python",
   "nbconvert_exporter": "python",
   "pygments_lexer": "ipython3",
   "version": "3.8.3"
  }
 },
 "nbformat": 4,
 "nbformat_minor": 1
}
